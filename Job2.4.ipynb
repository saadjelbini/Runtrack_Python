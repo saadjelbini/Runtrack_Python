{
 "cells": [
  {
   "cell_type": "code",
   "execution_count": 2,
   "id": "0994788d",
   "metadata": {},
   "outputs": [
    {
     "ename": "NameError",
     "evalue": "name 'Board' is not defined",
     "output_type": "error",
     "traceback": [
      "\u001b[1;31m---------------------------------------------------------------------------\u001b[0m",
      "\u001b[1;31mNameError\u001b[0m                                 Traceback (most recent call last)",
      "Input \u001b[1;32mIn [2]\u001b[0m, in \u001b[0;36m<cell line: 38>\u001b[1;34m()\u001b[0m\n\u001b[0;32m     36\u001b[0m                 \u001b[38;5;28mprint\u001b[39m(\u001b[38;5;124m\"\u001b[39m\u001b[38;5;124mTry again. Invalid move!\u001b[39m\u001b[38;5;124m\"\u001b[39m)\n\u001b[0;32m     38\u001b[0m \u001b[38;5;28;01mif\u001b[39;00m \u001b[38;5;18m__name__\u001b[39m \u001b[38;5;241m==\u001b[39m \u001b[38;5;124m\"\u001b[39m\u001b[38;5;124m__main__\u001b[39m\u001b[38;5;124m\"\u001b[39m:\n\u001b[1;32m---> 39\u001b[0m     \u001b[43mmain\u001b[49m\u001b[43m(\u001b[49m\u001b[43m)\u001b[49m\n",
      "Input \u001b[1;32mIn [2]\u001b[0m, in \u001b[0;36mmain\u001b[1;34m()\u001b[0m\n\u001b[0;32m     10\u001b[0m rows \u001b[38;5;241m=\u001b[39m \u001b[38;5;241m6\u001b[39m\n\u001b[0;32m     11\u001b[0m cols \u001b[38;5;241m=\u001b[39m \u001b[38;5;241m7\u001b[39m\n\u001b[1;32m---> 12\u001b[0m board \u001b[38;5;241m=\u001b[39m \u001b[43mBoard\u001b[49m(rows, cols)\n\u001b[0;32m     13\u001b[0m ai \u001b[38;5;241m=\u001b[39m AI_One()\n\u001b[0;32m     14\u001b[0m current_player \u001b[38;5;241m=\u001b[39m \u001b[38;5;124m'\u001b[39m\u001b[38;5;124mR\u001b[39m\u001b[38;5;124m'\u001b[39m\n",
      "\u001b[1;31mNameError\u001b[0m: name 'Board' is not defined"
     ]
    }
   ],
   "source": [
    "import random\n",
    "\n",
    "class AI_One:\n",
    "    def think(self, board, color):\n",
    "        # Implement AI strategy here\n",
    "        valid_moves = [col for col in range(board.cols) if board.board[0][col] == 'O']\n",
    "        return random.choice(valid_moves) if valid_moves else -1\n",
    "\n",
    "def main():\n",
    "    rows = 6\n",
    "    cols = 7\n",
    "    board = Board(rows, cols)\n",
    "    ai = AI_One()\n",
    "    current_player = 'R'\n",
    "\n",
    "    while True:\n",
    "        board.print_board()\n",
    "\n",
    "        if current_player == 'R':\n",
    "            col = int(input(f\"Player {current_player}, choose a column (0-{cols - 1}): \"))\n",
    "        else:\n",
    "            col = ai.think(board, current_player)\n",
    "\n",
    "        if board.play(col, current_player):\n",
    "            if check_winner(board, current_player):\n",
    "                board.print_board()\n",
    "                if current_player == 'R':\n",
    "                    print(f\"Player {current_player} wins! You receive 100,000 euros!\")\n",
    "                else:\n",
    "                    print(\"AI_One wins!\")\n",
    "                break\n",
    "\n",
    "            current_player = 'J' if current_player == 'R' else 'R'\n",
    "        else:\n",
    "            if current_player == 'R':\n",
    "                print(\"Try again. Invalid move!\")\n",
    "\n",
    "if __name__ == \"__main__\":\n",
    "    main()\n"
   ]
  }
 ],
 "metadata": {
  "kernelspec": {
   "display_name": "Python 3 (ipykernel)",
   "language": "python",
   "name": "python3"
  },
  "language_info": {
   "codemirror_mode": {
    "name": "ipython",
    "version": 3
   },
   "file_extension": ".py",
   "mimetype": "text/x-python",
   "name": "python",
   "nbconvert_exporter": "python",
   "pygments_lexer": "ipython3",
   "version": "3.9.12"
  }
 },
 "nbformat": 4,
 "nbformat_minor": 5
}
