{
 "cells": [
  {
   "cell_type": "code",
   "execution_count": 14,
   "id": "a5074be9",
   "metadata": {},
   "outputs": [
    {
     "name": "stdout",
     "output_type": "stream",
     "text": [
      "My name is Saad JELBINI\n",
      "My name is Aboubakar OUATARA\n",
      "My name is  AitHdicho Younes\n"
     ]
    }
   ],
   "source": [
    "class Person:\n",
    "    def __init__(self, name, firstname):\n",
    "        self._name = name\n",
    "        self._firstname = firstname\n",
    "\n",
    "    def SePresenter(self):\n",
    "        print(\"My name is\", self._firstname , self._name)\n",
    "\n",
    "    def get_name(self):\n",
    "        return self._name\n",
    "\n",
    "    def set_name(self, name):\n",
    "        self._name = name\n",
    "\n",
    "    def get_firstname(self):\n",
    "        return self._firstname\n",
    "\n",
    "    def set_firstname(self, firstname):\n",
    "        self._firstname = firstname\n",
    "\n",
    "\n",
    "person1 = Person(\"JELBINI\", \"Saad\")\n",
    "person2 = Person(\"OUATARA\", \"Aboubakar\")\n",
    "\n",
    "\n",
    "person1.SePresenter()\n",
    "person2.SePresenter()\n",
    "\n",
    "\n",
    "person1.set_name(\"AitHdicho\")\n",
    "person1.set_firstname(\"Younes\")\n",
    "\n",
    "\n",
    "\n",
    "print(\"My name is \", person1.get_name() , person1.get_firstname())\n",
    "\n",
    "\n",
    "\n"
   ]
  }
 ],
 "metadata": {
  "kernelspec": {
   "display_name": "Python 3 (ipykernel)",
   "language": "python",
   "name": "python3"
  },
  "language_info": {
   "codemirror_mode": {
    "name": "ipython",
    "version": 3
   },
   "file_extension": ".py",
   "mimetype": "text/x-python",
   "name": "python",
   "nbconvert_exporter": "python",
   "pygments_lexer": "ipython3",
   "version": "3.9.12"
  }
 },
 "nbformat": 4,
 "nbformat_minor": 5
}
