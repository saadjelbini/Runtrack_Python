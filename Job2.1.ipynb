{
 "cells": [
  {
   "cell_type": "code",
   "execution_count": 6,
   "id": "fd4c84b5",
   "metadata": {},
   "outputs": [
    {
     "name": "stdout",
     "output_type": "stream",
     "text": [
      "Books by Eiichiro Oda:\n",
      "One piece\n",
      "Les mésirables\n",
      "Title: One piece\n",
      "Title: Les mésirables\n"
     ]
    }
   ],
   "source": [
    "class Person:\n",
    "    def __init__(self, first_name, last_name):\n",
    "        self.first_name = first_name\n",
    "        self.last_name = last_name\n",
    "\n",
    "class Book:\n",
    "    def __init__(self, title, author):\n",
    "        self.title = title\n",
    "        self.author = author\n",
    "\n",
    "    def print_title(self):\n",
    "        print(f\"Title: {self.title}\")\n",
    "\n",
    "class Author(Person):\n",
    "    def __init__(self, first_name, last_name):\n",
    "        super().__init__(first_name, last_name)\n",
    "        self.work = []\n",
    "\n",
    "    def list_work(self):\n",
    "        print(f\"Books by {self.first_name} {self.last_name}:\")\n",
    "        for book in self.work:\n",
    "            print(book.title)\n",
    "\n",
    "    def write_a_book(self, title):\n",
    "        new_book = Book(title, self)\n",
    "        self.work.append(new_book)\n",
    "        return new_book\n",
    "\n",
    "\n",
    "author1 = Author(\"Eiichiro\",\"Oda\")\n",
    "\n",
    "book1 = author1.write_a_book(\"One piece\")\n",
    "book2 = author1.write_a_book(\"Les mésirables\")\n",
    "\n",
    "author1.list_work()\n",
    "\n",
    "book1.print_title()\n",
    "book2.print_title()\n"
   ]
  }
 ],
 "metadata": {
  "kernelspec": {
   "display_name": "Python 3 (ipykernel)",
   "language": "python",
   "name": "python3"
  },
  "language_info": {
   "codemirror_mode": {
    "name": "ipython",
    "version": 3
   },
   "file_extension": ".py",
   "mimetype": "text/x-python",
   "name": "python",
   "nbconvert_exporter": "python",
   "pygments_lexer": "ipython3",
   "version": "3.9.12"
  }
 },
 "nbformat": 4,
 "nbformat_minor": 5
}
