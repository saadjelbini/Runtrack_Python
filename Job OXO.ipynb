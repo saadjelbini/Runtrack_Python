{
 "cells": [
  {
   "cell_type": "code",
   "execution_count": 1,
   "id": "eb2a2fb7",
   "metadata": {},
   "outputs": [
    {
     "name": "stdout",
     "output_type": "stream",
     "text": [
      "Collecting pygame\n",
      "  Downloading pygame-2.5.2-cp39-cp39-win_amd64.whl (10.8 MB)\n",
      "Installing collected packages: pygame\n",
      "Successfully installed pygame-2.5.2\n",
      "Note: you may need to restart the kernel to use updated packages.\n"
     ]
    }
   ],
   "source": [
    "pip install pygame"
   ]
  },
  {
   "cell_type": "code",
   "execution_count": null,
   "id": "925c7446",
   "metadata": {},
   "outputs": [],
   "source": [
    "import pygame\n",
    "import sys\n",
    "\n",
    "\n",
    "pygame.init()\n",
    "\n",
    "\n",
    "WIDTH, HEIGHT = 600, 600\n",
    "GRID_SIZE = 3\n",
    "CELL_SIZE = WIDTH // GRID_SIZE\n",
    "LINE_WIDTH = 10\n",
    "WHITE = (255, 255, 255)\n",
    "LINE_COLOR = (0, 0, 0)\n",
    "X_COLOR = (255, 0, 0)\n",
    "O_COLOR = (0, 0, 255)\n",
    "\n",
    "\n",
    "screen = pygame.display.set_mode((WIDTH, HEIGHT))\n",
    "pygame.display.set_caption(\"TicTacToe1337\")\n",
    "\n",
    "\n",
    "grid = [['' for _ in range(GRID_SIZE)] for _ in range(GRID_SIZE)]\n",
    "current_player = 'X'\n",
    "game_over = False\n",
    "\n",
    "\n",
    "while True:\n",
    "    for event in pygame.event.get():\n",
    "        if event.type == pygame.QUIT:\n",
    "            pygame.quit()\n",
    "            sys.exit()\n",
    "\n",
    "        if not game_over and event.type == pygame.MOUSEBUTTONDOWN:\n",
    "            x, y = event.pos\n",
    "            row, col = y // CELL_SIZE, x // CELL_SIZE\n",
    "\n",
    "            if grid[row][col] == '':\n",
    "                grid[row][col] = current_player\n",
    "                current_player = 'O' if current_player == 'X' else 'X'\n",
    "\n",
    "    \n",
    "    for row in grid:\n",
    "        if all(cell == 'X' for cell in row) or all(cell == 'O' for cell in row):\n",
    "            game_over = True\n",
    "    for col in range(GRID_SIZE):\n",
    "        if all(grid[row][col] == 'X' for row in range(GRID_SIZE)) or all(grid[row][col] == 'O' for row in range(GRID_SIZE)):\n",
    "            game_over = True\n",
    "    if all(grid[i][i] == 'X' for i in range(GRID_SIZE)) or all(grid[i][i] == 'O' for i in range(GRID_SIZE)):\n",
    "        game_over = True\n",
    "    if all(grid[i][GRID_SIZE - 1 - i] == 'X' for i in range(GRID_SIZE)) or all(grid[i][GRID_SIZE - 1 - i] == 'O' for i in range(GRID_SIZE)):\n",
    "        game_over = True\n",
    "    if all(cell != '' for row in grid for cell in row):\n",
    "        game_over = True\n",
    "\n",
    "    \n",
    "    screen.fill(WHITE)\n",
    "\n",
    "    \n",
    "    for row in range(GRID_SIZE):\n",
    "        for col in range(GRID_SIZE):\n",
    "            if grid[row][col] == 'X':\n",
    "                pygame.draw.line(screen, X_COLOR, (col * CELL_SIZE, row * CELL_SIZE), ((col + 1) * CELL_SIZE, (row + 1) * CELL_SIZE), LINE_WIDTH)\n",
    "                pygame.draw.line(screen, X_COLOR, ((col + 1) * CELL_SIZE, row * CELL_SIZE), (col * CELL_SIZE, (row + 1) * CELL_SIZE), LINE_WIDTH)\n",
    "            elif grid[row][col] == 'O':\n",
    "                pygame.draw.circle(screen, O_COLOR, (col * CELL_SIZE + CELL_SIZE // 2, row * CELL_SIZE + CELL_SIZE // 2), CELL_SIZE // 2 - LINE_WIDTH)\n",
    "\n",
    "    \n",
    "    for i in range(1, GRID_SIZE):\n",
    "        pygame.draw.line(screen, LINE_COLOR, (0, i * CELL_SIZE), (WIDTH, i * CELL_SIZE), LINE_WIDTH)\n",
    "        pygame.draw.line(screen, LINE_COLOR, (i * CELL_SIZE, 0), (i * CELL_SIZE, HEIGHT), LINE_WIDTH)\n",
    "\n",
    "    pygame.display.flip()\n"
   ]
  }
 ],
 "metadata": {
  "kernelspec": {
   "display_name": "Python 3 (ipykernel)",
   "language": "python",
   "name": "python3"
  },
  "language_info": {
   "codemirror_mode": {
    "name": "ipython",
    "version": 3
   },
   "file_extension": ".py",
   "mimetype": "text/x-python",
   "name": "python",
   "nbconvert_exporter": "python",
   "pygments_lexer": "ipython3",
   "version": "3.9.12"
  }
 },
 "nbformat": 4,
 "nbformat_minor": 5
}
