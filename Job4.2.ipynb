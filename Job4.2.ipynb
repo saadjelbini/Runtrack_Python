{
 "cells": [
  {
   "cell_type": "code",
   "execution_count": 1,
   "id": "49880575",
   "metadata": {},
   "outputs": [
    {
     "name": "stdout",
     "output_type": "stream",
     "text": [
      "Enter the value of n: 4\n",
      "Checker placement:\n",
      "O X O O\n",
      "O O O X\n",
      "O O X O\n",
      "X O O O\n"
     ]
    }
   ],
   "source": [
    "def create_empty_board(n):\n",
    "    board = [['O' for _ in range(n)] for _ in range(n)]\n",
    "    return board\n",
    "\n",
    "def is_safe(board, row, col):\n",
    "    # Check if it's safe to place a checker at a given position\n",
    "    for i in range(row):\n",
    "        if board[i][col] == 'X':\n",
    "            return False\n",
    "        for j in range(max(col - i, 0), min(col + i, len(board))):\n",
    "            if board[i][j] == 'X':\n",
    "                return False\n",
    "    return True\n",
    "\n",
    "def place_checkers(board, n, row=0):\n",
    "    if row == n:\n",
    "        return True\n",
    "\n",
    "    for col in range(n):\n",
    "        if is_safe(board, row, col):\n",
    "            board[row][col] = 'X'\n",
    "\n",
    "            if place_checkers(board, n, row + 1):\n",
    "                return True\n",
    "\n",
    "            board[row][col] = 'O'\n",
    "\n",
    "    return False\n",
    "\n",
    "def print_board(board):\n",
    "    for row in board:\n",
    "        print(' '.join(row))\n",
    "\n",
    "try:\n",
    "    n = int(input(\"Enter the value of n: \"))\n",
    "\n",
    "    if n <= 0:\n",
    "        print(\"Please enter a positive integer.\")\n",
    "    else:\n",
    "        board = create_empty_board(n)\n",
    "\n",
    "        if place_checkers(board, n):\n",
    "            print(\"Checker placement:\")\n",
    "            print_board(board)\n",
    "        else:\n",
    "            print(\"No valid placement found.\")\n",
    "except ValueError:\n",
    "    print(\"Invalid input. Please enter a valid integer.\")\n"
   ]
  }
 ],
 "metadata": {
  "kernelspec": {
   "display_name": "Python 3 (ipykernel)",
   "language": "python",
   "name": "python3"
  },
  "language_info": {
   "codemirror_mode": {
    "name": "ipython",
    "version": 3
   },
   "file_extension": ".py",
   "mimetype": "text/x-python",
   "name": "python",
   "nbconvert_exporter": "python",
   "pygments_lexer": "ipython3",
   "version": "3.9.12"
  }
 },
 "nbformat": 4,
 "nbformat_minor": 5
}
