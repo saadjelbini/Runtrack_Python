{
 "cells": [
  {
   "cell_type": "code",
   "execution_count": 2,
   "id": "1fc9a4ab",
   "metadata": {},
   "outputs": [
    {
     "name": "stdout",
     "output_type": "stream",
     "text": [
      "|--------|\n",
      "|        |\n",
      "|--------|\n"
     ]
    }
   ],
   "source": [
    "def draw_rectangle(width, height):\n",
    "    for i in range(height):\n",
    "        if i == 0 or i == height - 1:\n",
    "            print(\"|\" + \"-\" * (width - 2) + \"|\")\n",
    "        else:\n",
    "            print(\"|\" + \" \" * (width - 2) + \"|\")\n",
    "\n",
    "draw_rectangle(10, 3)\n"
   ]
  }
 ],
 "metadata": {
  "kernelspec": {
   "display_name": "Python 3 (ipykernel)",
   "language": "python",
   "name": "python3"
  },
  "language_info": {
   "codemirror_mode": {
    "name": "ipython",
    "version": 3
   },
   "file_extension": ".py",
   "mimetype": "text/x-python",
   "name": "python",
   "nbconvert_exporter": "python",
   "pygments_lexer": "ipython3",
   "version": "3.9.12"
  }
 },
 "nbformat": 4,
 "nbformat_minor": 5
}
