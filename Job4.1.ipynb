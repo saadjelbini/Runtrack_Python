{
 "cells": [
  {
   "cell_type": "code",
   "execution_count": null,
   "id": "d2e8937d",
   "metadata": {},
   "outputs": [],
   "source": [
    "def calculate_power(x, n):\n",
    "    if n == 0:\n",
    "        return 1\n",
    "    elif n < 0:\n",
    "        return 1 / calculate_power(x, -n)\n",
    "    else:\n",
    "        return x * calculate_power(x, n - 1)\n",
    "\n",
    "try:\n",
    "    x = float(input(\"Enter the base (x): \"))\n",
    "    n = int(input(\"Enter the exponent (n): \"))\n",
    "    \n",
    "    result = calculate_power(x, n)\n",
    "    \n",
    "    print(f\"{x}^{n} = {result}\")\n",
    "except ValueError:\n",
    "    print(\"Invalid input. Please enter valid numbers.\")\n"
   ]
  }
 ],
 "metadata": {
  "kernelspec": {
   "display_name": "Python 3 (ipykernel)",
   "language": "python",
   "name": "python3"
  },
  "language_info": {
   "codemirror_mode": {
    "name": "ipython",
    "version": 3
   },
   "file_extension": ".py",
   "mimetype": "text/x-python",
   "name": "python",
   "nbconvert_exporter": "python",
   "pygments_lexer": "ipython3",
   "version": "3.9.12"
  }
 },
 "nbformat": 4,
 "nbformat_minor": 5
}
