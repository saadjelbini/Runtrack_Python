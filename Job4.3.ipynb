{
 "cells": [
  {
   "cell_type": "code",
   "execution_count": 8,
   "id": "b453572f",
   "metadata": {},
   "outputs": [
    {
     "name": "stdout",
     "output_type": "stream",
     "text": [
      "No path found from entrance to exit.\n"
     ]
    }
   ],
   "source": [
    "from collections import deque\n",
    "\n",
    "# Define directions (up, down, left, right)\n",
    "directions = [(0, -1), (0, 1), (-1, 0), (1, 0)]\n",
    "\n",
    "def read_maze(file_path):\n",
    "    with open(file_path, 'r') as file:\n",
    "        maze = [list(line.strip()) for line in file.readlines()]\n",
    "    return maze\n",
    "\n",
    "def write_maze(file_path, maze):\n",
    "    with open(file_path, 'w') as file:\n",
    "        for row in maze:\n",
    "            file.write(''.join(row) + '\\n')\n",
    "\n",
    "def find_shortest_path(maze):\n",
    "    rows, cols = len(maze), len(maze[0])\n",
    "    start = (0, 0)\n",
    "    end = (rows - 1, cols - 1)\n",
    "\n",
    "    queue = deque([(start, [])])\n",
    "    visited = set()\n",
    "\n",
    "    while queue:\n",
    "        (x, y), path = queue.popleft()\n",
    "        visited.add((x, y))\n",
    "\n",
    "        for dx, dy in directions:\n",
    "            nx, ny = x + dx, y + dy\n",
    "\n",
    "            if (0 <= nx < rows and 0 <= ny < cols and\n",
    "                maze[nx][ny] == ' ' and (nx, ny) not in visited):\n",
    "                if (nx, ny) == end:\n",
    "                    return path + [(nx, ny)]\n",
    "                queue.append(((nx, ny), path + [(nx, ny)]))\n",
    "\n",
    "    return None\n",
    "\n",
    "def mark_path_on_maze(maze, path):\n",
    "    for x, y in path:\n",
    "        maze[x][y] = 'X'\n",
    "\n",
    "\n",
    "if __name__ == \"__main__\":\n",
    "    maze_file_path = r\"C:\\Users\\hp\\OneDrive\\Documents\\Bureau\\Postulation\\maze.txt\"\n",
    "    output_maze_file_path = r\"C:\\Users\\hp\\OneDrive\\Documents\\Bureau\\Postulation\\maze-out.txt\"\n",
    "\n",
    "    maze = read_maze(maze_file_path)\n",
    "    shortest_path = find_shortest_path(maze)\n",
    "\n",
    "    if shortest_path:\n",
    "        mark_path_on_maze(maze, shortest_path)\n",
    "        write_maze(output_maze_file_path, maze)\n",
    "        print(f\"Shortest path marked in '{output_maze_file_path}'\")\n",
    "    else:\n",
    "        print(\"No path found from entrance to exit.\")"
   ]
  }
 ],
 "metadata": {
  "kernelspec": {
   "display_name": "Python 3 (ipykernel)",
   "language": "python",
   "name": "python3"
  },
  "language_info": {
   "codemirror_mode": {
    "name": "ipython",
    "version": 3
   },
   "file_extension": ".py",
   "mimetype": "text/x-python",
   "name": "python",
   "nbconvert_exporter": "python",
   "pygments_lexer": "ipython3",
   "version": "3.9.12"
  }
 },
 "nbformat": 4,
 "nbformat_minor": 5
}
