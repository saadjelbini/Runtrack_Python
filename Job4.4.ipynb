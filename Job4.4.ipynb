{
 "cells": [
  {
   "cell_type": "code",
   "execution_count": null,
   "id": "4f96a8c4",
   "metadata": {},
   "outputs": [],
   "source": [
    "def are_strings_identical(str1, str2):\n",
    "    if len(str2) == 0:\n",
    "        return len(str1) == 0\n",
    "    if str2[0] == '*':\n",
    "        \n",
    "        return (are_strings_identical(str1, str2[1:]) or\n",
    "                (len(str1) > 0 and are_strings_identical(str1[1:], str2)))\n",
    "    else:\n",
    "        \n",
    "        return (len(str1) > 0 and str1[0] == str2[0] and\n",
    "                are_strings_identical(str1[1:], str2[1:]))\n",
    "\n",
    "def main():\n",
    "    str1 = input(\"Enter the first string: \")\n",
    "    str2 = input(\"Enter the second string: \")\n",
    "\n",
    "    if are_strings_identical(str1, str2):\n",
    "        print(\"1\")\n",
    "    else:\n",
    "        print(\"0\")\n",
    "\n",
    "if __name__ == \"__main__\":\n",
    "    main()\n"
   ]
  }
 ],
 "metadata": {
  "kernelspec": {
   "display_name": "Python 3 (ipykernel)",
   "language": "python",
   "name": "python3"
  },
  "language_info": {
   "codemirror_mode": {
    "name": "ipython",
    "version": 3
   },
   "file_extension": ".py",
   "mimetype": "text/x-python",
   "name": "python",
   "nbconvert_exporter": "python",
   "pygments_lexer": "ipython3",
   "version": "3.9.12"
  }
 },
 "nbformat": 4,
 "nbformat_minor": 5
}
