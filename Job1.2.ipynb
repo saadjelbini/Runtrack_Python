{
 "cells": [
  {
   "cell_type": "code",
   "execution_count": 2,
   "id": "7701a9b3",
   "metadata": {},
   "outputs": [
    {
     "name": "stdout",
     "output_type": "stream",
     "text": [
      "    /\\\n",
      "   /  \\\n",
      "  /    \\\n",
      " /      \\\n",
      "/________\\\n"
     ]
    }
   ],
   "source": [
    "def draw_triangle(height):\n",
    "    for i in range(height):\n",
    "        spaces = \" \" * (height - i - 1)\n",
    "        if i == 0:\n",
    "            print(spaces + \"/\\\\\")\n",
    "        elif i == height - 1:\n",
    "            print(\"/\" + \"_\" * (2 * i) + \"\\\\\")\n",
    "        else:\n",
    "            print(spaces + \"/\" + \" \" * (2 * i) + \"\\\\\")\n",
    "            \n",
    "draw_triangle(5)\n"
   ]
  }
 ],
 "metadata": {
  "kernelspec": {
   "display_name": "Python 3 (ipykernel)",
   "language": "python",
   "name": "python3"
  },
  "language_info": {
   "codemirror_mode": {
    "name": "ipython",
    "version": 3
   },
   "file_extension": ".py",
   "mimetype": "text/x-python",
   "name": "python",
   "nbconvert_exporter": "python",
   "pygments_lexer": "ipython3",
   "version": "3.9.12"
  }
 },
 "nbformat": 4,
 "nbformat_minor": 5
}
