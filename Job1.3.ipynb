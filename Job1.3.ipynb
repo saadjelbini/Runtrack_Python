{
 "cells": [
  {
   "cell_type": "code",
   "execution_count": 4,
   "id": "abfc1ae5",
   "metadata": {},
   "outputs": [
    {
     "data": {
      "text/plain": [
       "[82, 85, 37, 45]"
      ]
     },
     "execution_count": 4,
     "metadata": {},
     "output_type": "execute_result"
    }
   ],
   "source": [
    "def round_grades(grades):\n",
    "    rounded_grades = []\n",
    "    for grade in grades:\n",
    "        if grade < 40:\n",
    "            rounded_grades.append(grade)\n",
    "        elif grade % 5 >= 3:\n",
    "            rounded_grades.append(grade + (5 - grade % 5))\n",
    "        else:\n",
    "            rounded_grades.append(grade)\n",
    "    return rounded_grades\n",
    "\n",
    "\n",
    "round_grades([82, 83, 37, 45])"
   ]
  }
 ],
 "metadata": {
  "kernelspec": {
   "display_name": "Python 3 (ipykernel)",
   "language": "python",
   "name": "python3"
  },
  "language_info": {
   "codemirror_mode": {
    "name": "ipython",
    "version": 3
   },
   "file_extension": ".py",
   "mimetype": "text/x-python",
   "name": "python",
   "nbconvert_exporter": "python",
   "pygments_lexer": "ipython3",
   "version": "3.9.12"
  }
 },
 "nbformat": 4,
 "nbformat_minor": 5
}
